{
 "cells": [
  {
   "cell_type": "code",
   "execution_count": null,
   "metadata": {
    "collapsed": true
   },
   "outputs": [],
   "source": [
    "from model.embedding import AudioWav2Vec2,ResNet50\n",
    "from config.config import shared_configs\n",
    "from utils.logger import LOGGER, add_log_to_file\n",
    "from utils.misc import set_random_seed\n",
    "from data.dataset import CMUMOSEIDataset\n",
    "from torch.utils.data import DataLoader\n",
    "import torch\n",
    "from tqdm import tqdm"
   ]
  },
  {
   "cell_type": "code",
   "execution_count": null,
   "outputs": [],
   "source": [
    "opts = shared_configs.get_pretrain_args()\n",
    "device = \"cuda\" if torch.cuda.is_available() else \"cpu\"\n",
    "LOGGER.info(\"device:{}\".format(device))\n",
    "\n",
    "set_random_seed(opts.seed)\n",
    "LOGGER.info(\"Loading dataset...\")\n",
    "opts.get_data_process_args()\n",
    "cmudataset = CMUMOSEIDataset(opts.cmumosei_audio_path,opts.cmumosei_video_path,opts.cmumosei_ids_path)\n",
    "cmudataloader = DataLoader(dataset = cmudataset,batch_size=opts.batch_size,shuffle=True)"
   ],
   "metadata": {
    "collapsed": false,
    "pycharm": {
     "name": "#%%\n"
    }
   }
  },
  {
   "cell_type": "code",
   "execution_count": null,
   "outputs": [],
   "source": [
    "for audio, video in tqdm(cmudataloader):\n",
    "    audiofeature = AudioWav2Vec2(audio)\n",
    "    videofeature = ResNet50(video)"
   ],
   "metadata": {
    "collapsed": false,
    "pycharm": {
     "name": "#%%\n"
    }
   }
  }
 ],
 "metadata": {
  "kernelspec": {
   "display_name": "Python 3",
   "language": "python",
   "name": "python3"
  },
  "language_info": {
   "codemirror_mode": {
    "name": "ipython",
    "version": 2
   },
   "file_extension": ".py",
   "mimetype": "text/x-python",
   "name": "python",
   "nbconvert_exporter": "python",
   "pygments_lexer": "ipython2",
   "version": "2.7.6"
  }
 },
 "nbformat": 4,
 "nbformat_minor": 0
}